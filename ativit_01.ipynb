{
 "cells": [
  {
   "cell_type": "code",
   "execution_count": 2,
   "metadata": {},
   "outputs": [
    {
     "name": "stdout",
     "output_type": "stream",
     "text": [
      "Olá Leandro Costa, como vai?\n",
      "Sua idade é 45 anos de vida\n",
      "Sua altura é 175cm\n",
      "Leandro Costa - 45 - 175\n"
     ]
    }
   ],
   "source": [
    "name = input('Digite o seu nome: ')\n",
    "age = input('Digite a sua idade: ')\n",
    "heith = input('Digite a sua altura: ')\n",
    "print(f'Olá {name}, como vai?')\n",
    "print(f'Sua idade é {age} anos de vida')\n",
    "print(f'Sua altura é {heith}cm')\n",
    "print(name, age, heith, sep=' - ')"
   ]
  },
  {
   "cell_type": "code",
   "execution_count": 1,
   "metadata": {},
   "outputs": [
    {
     "name": "stdout",
     "output_type": "stream",
     "text": [
      "None\n"
     ]
    }
   ],
   "source": [
    "variavel = None\n",
    "print(variavel)"
   ]
  },
  {
   "cell_type": "code",
   "execution_count": 2,
   "metadata": {},
   "outputs": [
    {
     "name": "stdout",
     "output_type": "stream",
     "text": [
      "10\n"
     ]
    }
   ],
   "source": [
    "inteiro = 10\n",
    "print(inteiro)"
   ]
  },
  {
   "cell_type": "code",
   "execution_count": 3,
   "metadata": {},
   "outputs": [
    {
     "name": "stdout",
     "output_type": "stream",
     "text": [
      "1.53\n"
     ]
    }
   ],
   "source": [
    "decimal = 1.53\n",
    "print(decimal)"
   ]
  },
  {
   "cell_type": "code",
   "execution_count": 1,
   "metadata": {},
   "outputs": [
    {
     "name": "stdout",
     "output_type": "stream",
     "text": [
      "Olá, isto é um texto\n"
     ]
    }
   ],
   "source": [
    "texto = 'Olá, isto é um texto'\n",
    "print(texto)"
   ]
  },
  {
   "cell_type": "code",
   "execution_count": 2,
   "metadata": {},
   "outputs": [
    {
     "name": "stdout",
     "output_type": "stream",
     "text": [
      "True\n",
      "False\n"
     ]
    }
   ],
   "source": [
    "var = True\n",
    "print(var)\n",
    "var = False\n",
    "print(var)"
   ]
  },
  {
   "cell_type": "code",
   "execution_count": 3,
   "metadata": {},
   "outputs": [
    {
     "name": "stdout",
     "output_type": "stream",
     "text": [
      "10\n"
     ]
    }
   ],
   "source": [
    "var1 = 10\n",
    "var2 = var1\n",
    "print(var2)"
   ]
  },
  {
   "cell_type": "code",
   "execution_count": 4,
   "metadata": {},
   "outputs": [
    {
     "name": "stdout",
     "output_type": "stream",
     "text": [
      "None\n",
      "1\n",
      "Texto\n"
     ]
    }
   ],
   "source": [
    "var = None\n",
    "print(var)\n",
    "var = 1\n",
    "print(var)\n",
    "var = 'Texto'\n",
    "print(var)"
   ]
  },
  {
   "cell_type": "code",
   "execution_count": 5,
   "metadata": {},
   "outputs": [],
   "source": [
    "saldoBancario = 100 #Pacal case\n",
    "SaldoBancario = 100 #camelcase\n",
    "saldo_bancario = 100 #sneakecase"
   ]
  },
  {
   "cell_type": "code",
   "execution_count": 6,
   "metadata": {},
   "outputs": [
    {
     "name": "stdout",
     "output_type": "stream",
     "text": [
      "Olá, Leandro como vai?\n",
      "Você possui 45 anos de vida e 1.75cm de altura\n",
      "Você é maior de idade? True\n"
     ]
    }
   ],
   "source": [
    "# Atividade de variáveis\n",
    "nome = 'Leandro'\n",
    "idade = 45\n",
    "altura = 1.75\n",
    "maior_de_idade = True\n",
    "print(f'Olá, {nome} como vai?')\n",
    "print(f'Você possui {idade} anos de vida e {altura}cm de altura')\n",
    "print(f'Você é maior de idade? {maior_de_idade}')"
   ]
  },
  {
   "cell_type": "code",
   "execution_count": 7,
   "metadata": {},
   "outputs": [
    {
     "name": "stdout",
     "output_type": "stream",
     "text": [
      "O seu nome completo é: Leandro Costa\n",
      "O seu CPF é: 92108741373\n",
      "Você é casado? True\n"
     ]
    }
   ],
   "source": [
    "# Atividade de variáveis\n",
    "nome = 'Leandro Costa'\n",
    "cpf = 92108741373\n",
    "estadoCivil = True\n",
    "print(f'O seu nome completo é: {nome}')\n",
    "print(f'O seu CPF é: {cpf}')\n",
    "print(f'Você é casado? {estadoCivil}')"
   ]
  },
  {
   "cell_type": "code",
   "execution_count": null,
   "metadata": {},
   "outputs": [],
   "source": []
  }
 ],
 "metadata": {
  "kernelspec": {
   "display_name": "base",
   "language": "python",
   "name": "python3"
  },
  "language_info": {
   "codemirror_mode": {
    "name": "ipython",
    "version": 3
   },
   "file_extension": ".py",
   "mimetype": "text/x-python",
   "name": "python",
   "nbconvert_exporter": "python",
   "pygments_lexer": "ipython3",
   "version": "3.11.7"
  }
 },
 "nbformat": 4,
 "nbformat_minor": 2
}
