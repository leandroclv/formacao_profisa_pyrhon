{
 "cells": [
  {
   "cell_type": "code",
   "execution_count": 2,
   "metadata": {},
   "outputs": [
    {
     "name": "stdout",
     "output_type": "stream",
     "text": [
      "Olá Leandro Costa, como vai?\n",
      "Sua idade é 45 anos de vida\n",
      "Sua altura é 175cm\n",
      "Leandro Costa - 45 - 175\n"
     ]
    }
   ],
   "source": [
    "name = input('Digite o seu nome: ')\n",
    "age = input('Digite a sua idade: ')\n",
    "heith = input('Digite a sua altura: ')\n",
    "print(f'Olá {name}, como vai?')\n",
    "print(f'Sua idade é {age} anos de vida')\n",
    "print(f'Sua altura é {heith}cm')\n",
    "print(name, age, heith, sep=' - ')"
   ]
  },
  {
   "cell_type": "code",
   "execution_count": null,
   "metadata": {},
   "outputs": [],
   "source": []
  }
 ],
 "metadata": {
  "kernelspec": {
   "display_name": "base",
   "language": "python",
   "name": "python3"
  },
  "language_info": {
   "codemirror_mode": {
    "name": "ipython",
    "version": 3
   },
   "file_extension": ".py",
   "mimetype": "text/x-python",
   "name": "python",
   "nbconvert_exporter": "python",
   "pygments_lexer": "ipython3",
   "version": "3.11.7"
  }
 },
 "nbformat": 4,
 "nbformat_minor": 2
}
