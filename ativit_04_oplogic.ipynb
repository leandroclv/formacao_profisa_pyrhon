{
 "cells": [
  {
   "cell_type": "code",
   "execution_count": 2,
   "metadata": {},
   "outputs": [
    {
     "name": "stdout",
     "output_type": "stream",
     "text": [
      "False\n"
     ]
    }
   ],
   "source": [
    "#Operadores Lógicos\n",
    "#Aplicados a operações lógicas e tem como resultado verdadeiro ou falso\n",
    "#and\n",
    "resultado1 = True and False\n",
    "print(resultado1)\n"
   ]
  },
  {
   "cell_type": "code",
   "execution_count": 3,
   "metadata": {},
   "outputs": [
    {
     "name": "stdout",
     "output_type": "stream",
     "text": [
      "True\n"
     ]
    }
   ],
   "source": [
    "resultado2 = True and True\n",
    "print(resultado2)"
   ]
  },
  {
   "cell_type": "code",
   "execution_count": 4,
   "metadata": {},
   "outputs": [
    {
     "name": "stdout",
     "output_type": "stream",
     "text": [
      "Vou ao mercado? True\n"
     ]
    }
   ],
   "source": [
    "clima_bom = True\n",
    "disposicao = True\n",
    "vou_ao_mercado = clima_bom and disposicao\n",
    "print(f'Vou ao mercado? {vou_ao_mercado}')"
   ]
  },
  {
   "cell_type": "code",
   "execution_count": 5,
   "metadata": {},
   "outputs": [
    {
     "name": "stdout",
     "output_type": "stream",
     "text": [
      "True\n"
     ]
    }
   ],
   "source": [
    "#or\n",
    "resultado3 = True or False\n",
    "print(resultado3)"
   ]
  },
  {
   "cell_type": "code",
   "execution_count": 6,
   "metadata": {},
   "outputs": [
    {
     "name": "stdout",
     "output_type": "stream",
     "text": [
      "True\n",
      "False\n"
     ]
    }
   ],
   "source": [
    "resultado = True or True\n",
    "print(resultado)\n",
    "resultado = False or False\n",
    "print(resultado)"
   ]
  },
  {
   "cell_type": "code",
   "execution_count": 7,
   "metadata": {},
   "outputs": [
    {
     "name": "stdout",
     "output_type": "stream",
     "text": [
      "Terei um bom salário? True\n"
     ]
    }
   ],
   "source": [
    "sei_programar = True\n",
    "sei_investir = True\n",
    "ganho_bom_salario = sei_programar or sei_investir\n",
    "print(f'Terei um bom salário? {ganho_bom_salario}')"
   ]
  },
  {
   "cell_type": "code",
   "execution_count": 1,
   "metadata": {},
   "outputs": [
    {
     "name": "stdout",
     "output_type": "stream",
     "text": [
      "Terei um bom salário? True\n"
     ]
    }
   ],
   "source": [
    "sei_programar = True\n",
    "sei_investir = False\n",
    "ganho_bom_salario = sei_programar or sei_investir\n",
    "print(f'Terei um bom salário? {ganho_bom_salario}')"
   ]
  },
  {
   "cell_type": "code",
   "execution_count": 2,
   "metadata": {},
   "outputs": [
    {
     "name": "stdout",
     "output_type": "stream",
     "text": [
      "Terei um bom salário? False\n"
     ]
    }
   ],
   "source": [
    "sei_programar = False\n",
    "sei_investir = False\n",
    "ganho_bom_salario = sei_programar or sei_investir\n",
    "print(f'Terei um bom salário? {ganho_bom_salario}')"
   ]
  },
  {
   "cell_type": "code",
   "execution_count": 3,
   "metadata": {},
   "outputs": [
    {
     "name": "stdout",
     "output_type": "stream",
     "text": [
      "False\n"
     ]
    }
   ],
   "source": [
    "resultado = True\n",
    "print(not resultado)"
   ]
  },
  {
   "cell_type": "code",
   "execution_count": 4,
   "metadata": {},
   "outputs": [
    {
     "name": "stdout",
     "output_type": "stream",
     "text": [
      "Estou trancado? False\n"
     ]
    }
   ],
   "source": [
    "porta_aberta = True\n",
    "tem_chave = False\n",
    "print(f'Estou trancado? {not porta_aberta and not tem_chave}')"
   ]
  },
  {
   "cell_type": "code",
   "execution_count": null,
   "metadata": {},
   "outputs": [
    {
     "name": "stdout",
     "output_type": "stream",
     "text": [
      "True\n"
     ]
    }
   ],
   "source": [
    "#Ordem de prioridade: not -> and -> or\n",
    "bool1 = True or False and True #primeiro vai ser resolvido o and e depois o or\n",
    "print(bool1)"
   ]
  },
  {
   "cell_type": "code",
   "execution_count": null,
   "metadata": {},
   "outputs": [
    {
     "name": "stdout",
     "output_type": "stream",
     "text": [
      "True\n"
     ]
    }
   ],
   "source": [
    "bool2 = True or not False #O not será resolvido primeiro\n",
    "print(bool2)"
   ]
  },
  {
   "cell_type": "code",
   "execution_count": null,
   "metadata": {},
   "outputs": [
    {
     "name": "stdout",
     "output_type": "stream",
     "text": [
      "False\n"
     ]
    }
   ],
   "source": [
    "bool3 = True and not (True or False) #Será resolvido primeiro o que está dentro dos parênteses, depois o not e por fim o and\n",
    "print(bool3)"
   ]
  },
  {
   "cell_type": "code",
   "execution_count": 8,
   "metadata": {},
   "outputs": [
    {
     "name": "stdout",
     "output_type": "stream",
     "text": [
      "Irei ao mercado? True\n"
     ]
    }
   ],
   "source": [
    "# Desafio 1\n",
    "faltar_comida = True\n",
    "se_for_sabado = False\n",
    "ir_ao_mercado = faltar_comida or se_for_sabado\n",
    "print(f'Irei ao mercado? {ir_ao_mercado}')"
   ]
  },
  {
   "cell_type": "code",
   "execution_count": 10,
   "metadata": {},
   "outputs": [
    {
     "name": "stdout",
     "output_type": "stream",
     "text": [
      "Eu devo atravessar a rua na faixa de pedestre? False\n"
     ]
    }
   ],
   "source": [
    "#Desafio 2\n",
    "sinal_vermelho = True\n",
    "sem_carro_direita = False\n",
    "sem_carro_esquerda = True\n",
    "devo_atravessar_a_rua = sinal_vermelho and sem_carro_direita and sem_carro_esquerda\n",
    "print(f'Eu devo atravessar a rua na faixa de pedestre? {devo_atravessar_a_rua}')"
   ]
  },
  {
   "cell_type": "code",
   "execution_count": 11,
   "metadata": {},
   "outputs": [
    {
     "name": "stdout",
     "output_type": "stream",
     "text": [
      "Eu devo atravessar a rua na faixa de pedestre? True\n"
     ]
    }
   ],
   "source": [
    "#Desafio 3\n",
    "sinal_vermelho = True\n",
    "sem_carro_direita = False\n",
    "sem_carro_esquerda = True\n",
    "devo_atravessar_a_rua = sinal_vermelho or sem_carro_direita and sem_carro_esquerda\n",
    "print(f'Eu devo atravessar a rua na faixa de pedestre? {devo_atravessar_a_rua}')"
   ]
  },
  {
   "cell_type": "code",
   "execution_count": null,
   "metadata": {},
   "outputs": [],
   "source": []
  }
 ],
 "metadata": {
  "kernelspec": {
   "display_name": "base",
   "language": "python",
   "name": "python3"
  },
  "language_info": {
   "codemirror_mode": {
    "name": "ipython",
    "version": 3
   },
   "file_extension": ".py",
   "mimetype": "text/x-python",
   "name": "python",
   "nbconvert_exporter": "python",
   "pygments_lexer": "ipython3",
   "version": "3.11.7"
  }
 },
 "nbformat": 4,
 "nbformat_minor": 2
}
