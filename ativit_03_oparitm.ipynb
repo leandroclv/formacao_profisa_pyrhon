{
 "cells": [
  {
   "cell_type": "code",
   "execution_count": 4,
   "metadata": {},
   "outputs": [
    {
     "name": "stdout",
     "output_type": "stream",
     "text": [
      "30\n"
     ]
    }
   ],
   "source": [
    "#Operadores Aritméticos\n",
    "print(10 + 20)"
   ]
  },
  {
   "cell_type": "code",
   "execution_count": 2,
   "metadata": {},
   "outputs": [
    {
     "name": "stdout",
     "output_type": "stream",
     "text": [
      "30.5\n"
     ]
    }
   ],
   "source": [
    "numero = 10 + 20.5\n",
    "print(numero)"
   ]
  },
  {
   "cell_type": "code",
   "execution_count": 3,
   "metadata": {},
   "outputs": [
    {
     "name": "stdout",
     "output_type": "stream",
     "text": [
      "60.5\n"
     ]
    }
   ],
   "source": [
    "outro_numero = 30 + numero\n",
    "print(outro_numero)"
   ]
  },
  {
   "cell_type": "code",
   "execution_count": 4,
   "metadata": {},
   "outputs": [
    {
     "name": "stdout",
     "output_type": "stream",
     "text": [
      "20\n"
     ]
    }
   ],
   "source": [
    "numero = 10 * 2\n",
    "print(numero)"
   ]
  },
  {
   "cell_type": "code",
   "execution_count": 5,
   "metadata": {},
   "outputs": [
    {
     "name": "stdout",
     "output_type": "stream",
     "text": [
      "3.3333333333333335\n"
     ]
    }
   ],
   "source": [
    "numero = 10/3\n",
    "print(numero)"
   ]
  },
  {
   "cell_type": "code",
   "execution_count": 6,
   "metadata": {},
   "outputs": [
    {
     "name": "stdout",
     "output_type": "stream",
     "text": [
      "3\n"
     ]
    }
   ],
   "source": [
    "numero = 10 // 3 #tras somente a parte inteira\n",
    "print(numero)"
   ]
  },
  {
   "cell_type": "code",
   "execution_count": 7,
   "metadata": {},
   "outputs": [
    {
     "name": "stdout",
     "output_type": "stream",
     "text": [
      "16\n"
     ]
    }
   ],
   "source": [
    "numero = 2 ** 4 #exponencial\n",
    "print(numero)"
   ]
  },
  {
   "cell_type": "code",
   "execution_count": 8,
   "metadata": {},
   "outputs": [
    {
     "name": "stdout",
     "output_type": "stream",
     "text": [
      "1\n"
     ]
    }
   ],
   "source": [
    "numero = 4 % 3 #mostra somente o resto da divisão (modulo)\n",
    "print(numero)"
   ]
  },
  {
   "cell_type": "code",
   "execution_count": 10,
   "metadata": {},
   "outputs": [
    {
     "name": "stdout",
     "output_type": "stream",
     "text": [
      "21\n",
      "30\n"
     ]
    }
   ],
   "source": [
    "#ordem de prioridade\n",
    "#exponenciação (**)> multiplicação (*)> divisão (/)> resto da divisão (%)> divisão inteira (//)\n",
    "number = 10 * 2 + 1\n",
    "print(number)\n",
    "number = 10 * (2 + 1)\n",
    "print(number)"
   ]
  },
  {
   "cell_type": "code",
   "execution_count": 11,
   "metadata": {},
   "outputs": [
    {
     "name": "stdout",
     "output_type": "stream",
     "text": [
      "0\n",
      "-18\n"
     ]
    }
   ],
   "source": [
    "number1 = 3 * 3 - 9\n",
    "print(number1)\n",
    "number1 = 3 * (3 - 9)\n",
    "print(number1)"
   ]
  },
  {
   "cell_type": "code",
   "execution_count": 15,
   "metadata": {},
   "outputs": [
    {
     "name": "stdout",
     "output_type": "stream",
     "text": [
      "120\n"
     ]
    }
   ],
   "source": [
    "number3 = 20\n",
    "number4 = 40\n",
    "number5 = 60\n",
    "result = number3 + number4 + number5\n",
    "print(result)"
   ]
  },
  {
   "cell_type": "code",
   "execution_count": 16,
   "metadata": {},
   "outputs": [
    {
     "name": "stdout",
     "output_type": "stream",
     "text": [
      "240\n",
      "480\n"
     ]
    }
   ],
   "source": [
    "result = result * 2\n",
    "print(result)\n",
    "result *= 2\n",
    "print(result)"
   ]
  },
  {
   "cell_type": "code",
   "execution_count": 18,
   "metadata": {},
   "outputs": [
    {
     "name": "stdout",
     "output_type": "stream",
     "text": [
      "Você tem 46 anos de idade\n"
     ]
    }
   ],
   "source": [
    "#Desafio 1\n",
    "yearNow = int(input('Digite a ano em que estamos agora: '))\n",
    "yearBorn = int(input('Digite o ano do seu nascimento: '))\n",
    "yearOld = yearNow - yearBorn\n",
    "print(f'Você tem {yearOld} anos de idade')"
   ]
  },
  {
   "cell_type": "code",
   "execution_count": 19,
   "metadata": {},
   "outputs": [
    {
     "name": "stdout",
     "output_type": "stream",
     "text": [
      "A média dos números é 117.67\n"
     ]
    }
   ],
   "source": [
    "#desafio 2\n",
    "n1 = int(input('Digite um número: '))\n",
    "n2 = int(input('Digite outro número: '))\n",
    "n3 = int(input('Digite o terceiro número: '))\n",
    "media = n1 + n2 + n3 / 3\n",
    "print(f'A média dos números é {media:.2f}')"
   ]
  },
  {
   "cell_type": "code",
   "execution_count": 21,
   "metadata": {},
   "outputs": [
    {
     "name": "stdout",
     "output_type": "stream",
     "text": [
      "O seu indíce de massa corporal é 22.04\n"
     ]
    }
   ],
   "source": [
    "#desafio 3\n",
    "peso = float(input('Digite o seu peso em Kg: '))\n",
    "altura = float(input('Digite a sua altura em metros: '))\n",
    "imc = peso / altura ** 2\n",
    "print(f'O seu indíce de massa corporal é {imc:.2f}')"
   ]
  },
  {
   "cell_type": "code",
   "execution_count": 23,
   "metadata": {},
   "outputs": [
    {
     "name": "stdout",
     "output_type": "stream",
     "text": [
      "58 ovos por 7 pessoas, ficam 8 para cada e sobram 2 ovos\n"
     ]
    }
   ],
   "source": [
    "#desafio 4\n",
    "ovos = int(input('Digite o número de ovos de páscoa: '))\n",
    "pessoas = int(input('Digite o número de pessoas: '))\n",
    "ovos_pessoas = ovos // pessoas\n",
    "sobra = ovos % pessoas\n",
    "print(f'{ovos} ovos por {pessoas} pessoas, ficam {ovos_pessoas} para cada e sobram {sobra} ovos')"
   ]
  },
  {
   "cell_type": "code",
   "execution_count": null,
   "metadata": {},
   "outputs": [],
   "source": []
  }
 ],
 "metadata": {
  "kernelspec": {
   "display_name": "base",
   "language": "python",
   "name": "python3"
  },
  "language_info": {
   "codemirror_mode": {
    "name": "ipython",
    "version": 3
   },
   "file_extension": ".py",
   "mimetype": "text/x-python",
   "name": "python",
   "nbconvert_exporter": "python",
   "pygments_lexer": "ipython3",
   "version": "3.11.7"
  }
 },
 "nbformat": 4,
 "nbformat_minor": 2
}
