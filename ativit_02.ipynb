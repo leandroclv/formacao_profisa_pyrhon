{
 "cells": [
  {
   "cell_type": "code",
   "execution_count": 1,
   "metadata": {},
   "outputs": [
    {
     "name": "stdout",
     "output_type": "stream",
     "text": [
      "O nome dela é Carolina\n"
     ]
    }
   ],
   "source": [
    "#Formatação de texto\n",
    "#%s - texto\n",
    "#%d - inteiro\n",
    "#%f - real(float)\n",
    "nome = 'Carolina'\n",
    "texto_formatado = 'O nome dela é %s'%(nome)\n",
    "print(texto_formatado)"
   ]
  },
  {
   "cell_type": "code",
   "execution_count": 3,
   "metadata": {},
   "outputs": [
    {
     "name": "stdout",
     "output_type": "stream",
     "text": [
      "Meu nome é Rodrigo. Tenho 23 anos e tenho 1.73 metros de altura\n"
     ]
    }
   ],
   "source": [
    "nome = 'Rodrigo'\n",
    "idade = 23\n",
    "altura = 1.73\n",
    "texto = 'Meu nome é %s. Tenho %d anos e tenho %.2f metros de altura'%(nome, idade, altura) # %.2f indica te o float terá 2 casas decimais\n",
    "print(texto)"
   ]
  },
  {
   "cell_type": "code",
   "execution_count": 5,
   "metadata": {},
   "outputs": [
    {
     "name": "stdout",
     "output_type": "stream",
     "text": [
      "O valor é True\n",
      "O valor é 1\n"
     ]
    }
   ],
   "source": [
    "valor = True\n",
    "print('O valor é %s' %(valor))\n",
    "print('O valor é %d'%(valor))"
   ]
  },
  {
   "cell_type": "code",
   "execution_count": 6,
   "metadata": {},
   "outputs": [
    {
     "name": "stdout",
     "output_type": "stream",
     "text": [
      "A parte inteira é 34\n"
     ]
    }
   ],
   "source": [
    "decimal = 34.4593\n",
    "print('A parte inteira é %d' % (decimal))"
   ]
  },
  {
   "cell_type": "code",
   "execution_count": 7,
   "metadata": {},
   "outputs": [
    {
     "name": "stdout",
     "output_type": "stream",
     "text": [
      "Olá, assim se quebra uma linha, \n",
      " entendeu?\n"
     ]
    }
   ],
   "source": [
    "texto = 'Olá, assim se quebra uma linha, \\n entendeu?' # \\n - quebra de linha\n",
    "print(texto)"
   ]
  },
  {
   "cell_type": "code",
   "execution_count": 8,
   "metadata": {},
   "outputs": [
    {
     "name": "stdout",
     "output_type": "stream",
     "text": [
      "Olá, assim se quebra uma linha, \n",
      "\tentendeu como quebra a linha?\n",
      "\t\tfim \n"
     ]
    }
   ],
   "source": [
    "texto = 'Olá, assim se quebra uma linha, \\n\\tentendeu como quebra a linha?\\n\\t\\tfim ' # \\t - tabulação\n",
    "print(texto)"
   ]
  },
  {
   "cell_type": "code",
   "execution_count": 9,
   "metadata": {},
   "outputs": [
    {
     "name": "stdout",
     "output_type": "stream",
     "text": [
      "Deixa a 'palavra' entre aspas\n"
     ]
    }
   ],
   "source": [
    "texto = 'Deixa a \\'palavra\\' entre aspas'\n",
    "print(texto)"
   ]
  },
  {
   "cell_type": "code",
   "execution_count": 2,
   "metadata": {},
   "outputs": [
    {
     "name": "stdout",
     "output_type": "stream",
     "text": [
      "A data do meu nascimento é 15/08/1979\n"
     ]
    }
   ],
   "source": [
    "#desafio 01\n",
    "dia = 15\n",
    "mes = 8\n",
    "ano = 1979\n",
    "#dia, mes, ano = 15, 8, 1979 - é possível fazer isso no Python\n",
    "print('A data do meu nascimento é %d/0%d/%d'%(dia,mes,ano))"
   ]
  },
  {
   "cell_type": "code",
   "execution_count": 3,
   "metadata": {},
   "outputs": [
    {
     "name": "stdout",
     "output_type": "stream",
     "text": [
      "Agora são 11 horas e 21 minutos\n"
     ]
    }
   ],
   "source": [
    "#desafio 02\n",
    "hora = 11\n",
    "min = 21\n",
    "print('Agora são %d horas e %d minutos'%(hora,min))"
   ]
  },
  {
   "cell_type": "code",
   "execution_count": 5,
   "metadata": {},
   "outputs": [
    {
     "name": "stdout",
     "output_type": "stream",
     "text": [
      "O PI é 3.14159\n"
     ]
    }
   ],
   "source": [
    "#desafio 03\n",
    "pi = 3.14159265359\n",
    "print('O PI é %.5f' %(pi))"
   ]
  },
  {
   "cell_type": "code",
   "execution_count": null,
   "metadata": {},
   "outputs": [],
   "source": []
  }
 ],
 "metadata": {
  "kernelspec": {
   "display_name": "base",
   "language": "python",
   "name": "python3"
  },
  "language_info": {
   "codemirror_mode": {
    "name": "ipython",
    "version": 3
   },
   "file_extension": ".py",
   "mimetype": "text/x-python",
   "name": "python",
   "nbconvert_exporter": "python",
   "pygments_lexer": "ipython3",
   "version": "3.11.7"
  }
 },
 "nbformat": 4,
 "nbformat_minor": 2
}
